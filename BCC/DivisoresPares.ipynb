{
  "nbformat": 4,
  "nbformat_minor": 0,
  "metadata": {
    "colab": {
      "provenance": [],
      "authorship_tag": "ABX9TyPYMZ3mv38E8Cfa9AgT/fkN",
      "include_colab_link": true
    },
    "kernelspec": {
      "name": "python3",
      "display_name": "Python 3"
    },
    "language_info": {
      "name": "python"
    }
  },
  "cells": [
    {
      "cell_type": "markdown",
      "metadata": {
        "id": "view-in-github",
        "colab_type": "text"
      },
      "source": [
        "<a href=\"https://colab.research.google.com/github/poxxus/Trabalho-da-Faculdade/blob/master/DivisoresPares.ipynb\" target=\"_parent\"><img src=\"https://colab.research.google.com/assets/colab-badge.svg\" alt=\"Open In Colab\"/></a>"
      ]
    },
    {
      "cell_type": "code",
      "execution_count": 3,
      "metadata": {
        "colab": {
          "base_uri": "https://localhost:8080/"
        },
        "id": "gkHY7aILWCMU",
        "outputId": "502a6339-de45-4112-a656-8274bccd8250"
      },
      "outputs": [
        {
          "output_type": "stream",
          "name": "stdout",
          "text": [
            "10\n",
            "2\n"
          ]
        }
      ],
      "source": [
        "num = int(input())\n",
        "list1 = []\n",
        "list2 = []\n",
        "for i in range(1, num + 1):\n",
        "  if num % i == 0:\n",
        "     list1.append(i)\n",
        "for y in list1:\n",
        "  if y % 2 == 0:\n",
        "     list2.append(y)\n",
        "print(len(list2))"
      ]
    }
  ]
}