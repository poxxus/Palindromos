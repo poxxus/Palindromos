{
  "nbformat": 4,
  "nbformat_minor": 0,
  "metadata": {
    "colab": {
      "provenance": [],
      "authorship_tag": "ABX9TyP7ub1XeYPfyzFGjspx/34h",
      "include_colab_link": true
    },
    "kernelspec": {
      "name": "python3",
      "display_name": "Python 3"
    },
    "language_info": {
      "name": "python"
    }
  },
  "cells": [
    {
      "cell_type": "markdown",
      "metadata": {
        "id": "view-in-github",
        "colab_type": "text"
      },
      "source": [
        "<a href=\"https://colab.research.google.com/github/poxxus/Trabalho-da-Faculdade/blob/master/numerosPerfeitos.ipynb\" target=\"_parent\"><img src=\"https://colab.research.google.com/assets/colab-badge.svg\" alt=\"Open In Colab\"/></a>"
      ]
    },
    {
      "cell_type": "code",
      "execution_count": 2,
      "metadata": {
        "colab": {
          "base_uri": "https://localhost:8080/"
        },
        "id": "FxXd-09AX45V",
        "outputId": "5a982e3b-6fb4-4f8a-b534-965664c11cb8"
      },
      "outputs": [
        {
          "output_type": "stream",
          "name": "stdout",
          "text": [
            "6\n",
            "SIM\n"
          ]
        }
      ],
      "source": [
        "num = int(input())\n",
        "list1 = []\n",
        "for i in range(1, num + 1):\n",
        "    if num % i == 0:\n",
        "        list1.append(i)\n",
        "del list1[-1]\n",
        "if sum(list1) == num:\n",
        "    print(\"SIM\")\n",
        "else:\n",
        "    print(\"NAO\")  "
      ]
    }
  ]
}