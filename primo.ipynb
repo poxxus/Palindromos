{
  "nbformat": 4,
  "nbformat_minor": 0,
  "metadata": {
    "colab": {
      "provenance": [],
      "authorship_tag": "ABX9TyMnSJUAS4NMpCVN/aoJip+T",
      "include_colab_link": true
    },
    "kernelspec": {
      "name": "python3",
      "display_name": "Python 3"
    },
    "language_info": {
      "name": "python"
    }
  },
  "cells": [
    {
      "cell_type": "markdown",
      "metadata": {
        "id": "view-in-github",
        "colab_type": "text"
      },
      "source": [
        "<a href=\"https://colab.research.google.com/github/poxxus/Trabalho-da-Faculdade/blob/master/primo.ipynb\" target=\"_parent\"><img src=\"https://colab.research.google.com/assets/colab-badge.svg\" alt=\"Open In Colab\"/></a>"
      ]
    },
    {
      "cell_type": "code",
      "execution_count": 12,
      "metadata": {
        "colab": {
          "base_uri": "https://localhost:8080/"
        },
        "id": "P93VHs8DT11N",
        "outputId": "88863226-7ad6-4f2c-b6bf-04589c508b97"
      },
      "outputs": [
        {
          "output_type": "stream",
          "name": "stdout",
          "text": [
            "201\n",
            "COMPOSTO\n"
          ]
        }
      ],
      "source": [
        "num = int(input())\n",
        "list1 = []\n",
        "for i in range(1, num + 1):\n",
        "  if num % i == 0:\n",
        "     list1.append(i)\n",
        "if len(list1) == 2:\n",
        "  print(\"PRIMO\")\n",
        "else:\n",
        "  print(\"COMPOSTO\")"
      ]
    }
  ]
}