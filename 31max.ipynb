{
  "nbformat": 4,
  "nbformat_minor": 0,
  "metadata": {
    "colab": {
      "provenance": [],
      "authorship_tag": "ABX9TyNXFBKMLVt/2SEI/Brv6H4j",
      "include_colab_link": true
    },
    "kernelspec": {
      "name": "python3",
      "display_name": "Python 3"
    },
    "language_info": {
      "name": "python"
    }
  },
  "cells": [
    {
      "cell_type": "markdown",
      "metadata": {
        "id": "view-in-github",
        "colab_type": "text"
      },
      "source": [
        "<a href=\"https://colab.research.google.com/github/poxxus/Palindromos/blob/master/31max.ipynb\" target=\"_parent\"><img src=\"https://colab.research.google.com/assets/colab-badge.svg\" alt=\"Open In Colab\"/></a>"
      ]
    },
    {
      "cell_type": "code",
      "source": [
        "list1 = list()\n",
        "from sys import stdin\n",
        "for i in stdin:\n",
        "  if int(i) < 0:\n",
        "    break\n",
        "  else:\n",
        "    list1.append(int(i))\n",
        "if not list1:\n",
        "  print('nenhum numero informado')\n",
        "else:\n",
        "  print(max(list1))"
      ],
      "metadata": {
        "colab": {
          "base_uri": "https://localhost:8080/"
        },
        "id": "EuDC98zqJkUr",
        "outputId": "a5493ef4-6fe4-44c5-dd2b-636fbf2718c5"
      },
      "execution_count": 33,
      "outputs": [
        {
          "output_type": "stream",
          "name": "stdout",
          "text": [
            "nenhum numero informado\n"
          ]
        }
      ]
    }
  ]
}