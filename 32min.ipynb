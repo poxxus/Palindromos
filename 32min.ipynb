{
  "nbformat": 4,
  "nbformat_minor": 0,
  "metadata": {
    "colab": {
      "provenance": [],
      "collapsed_sections": [],
      "authorship_tag": "ABX9TyPgEWBAOdZTh6AeMFTM0Qy7",
      "include_colab_link": true
    },
    "kernelspec": {
      "name": "python3",
      "display_name": "Python 3"
    },
    "language_info": {
      "name": "python"
    }
  },
  "cells": [
    {
      "cell_type": "markdown",
      "metadata": {
        "id": "view-in-github",
        "colab_type": "text"
      },
      "source": [
        "<a href=\"https://colab.research.google.com/github/poxxus/Trabalho-da-Faculdade/blob/master/32min.ipynb\" target=\"_parent\"><img src=\"https://colab.research.google.com/assets/colab-badge.svg\" alt=\"Open In Colab\"/></a>"
      ]
    },
    {
      "cell_type": "code",
      "source": [
        "list1 = list()\n",
        "from sys import stdin\n",
        "for i in stdin:\n",
        "  if int(i) < 0:\n",
        "    break\n",
        "  else:\n",
        "    list1.append(int(i))\n",
        "if not list1:\n",
        "  print('nenhum numero informado')\n",
        "else:\n",
        "  print(min(list1))"
      ],
      "metadata": {
        "colab": {
          "base_uri": "https://localhost:8080/"
        },
        "id": "EuDC98zqJkUr",
        "outputId": "a5493ef4-6fe4-44c5-dd2b-636fbf2718c5"
      },
      "execution_count": 33,
      "outputs": [
        {
          "output_type": "stream",
          "name": "stdout",
          "text": [
            "nenhum numero informado\n"
          ]
        }
      ]
    }
  ]
}