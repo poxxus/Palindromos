{
  "nbformat": 4,
  "nbformat_minor": 0,
  "metadata": {
    "colab": {
      "provenance": [],
      "authorship_tag": "ABX9TyO0RrC5hTO68I5cOYlO/C2u",
      "include_colab_link": true
    },
    "kernelspec": {
      "name": "python3",
      "display_name": "Python 3"
    },
    "language_info": {
      "name": "python"
    }
  },
  "cells": [
    {
      "cell_type": "markdown",
      "metadata": {
        "id": "view-in-github",
        "colab_type": "text"
      },
      "source": [
        "<a href=\"https://colab.research.google.com/github/poxxus/Trabalho-da-Faculdade/blob/master/MDC.ipynb\" target=\"_parent\"><img src=\"https://colab.research.google.com/assets/colab-badge.svg\" alt=\"Open In Colab\"/></a>"
      ]
    },
    {
      "cell_type": "code",
      "execution_count": null,
      "metadata": {
        "id": "NtrIirS2aQaJ"
      },
      "outputs": [],
      "source": [
        "A = int(input())\n",
        "B = int(input())\n",
        "list1 = []\n",
        "list2 = []\n",
        "for i in range(1, A + 1):\n",
        "    if A % i == 0:\n",
        "        list1.append(i)\n",
        "for y in range(1, B + 1):\n",
        "    if B % y == 0:\n",
        "        list2.append(y)\n",
        "list_intersec = [x for x in list1 if x in list2]\n",
        "print(max(list_intersec))\n",
        "\n"
      ]
    }
  ]
}